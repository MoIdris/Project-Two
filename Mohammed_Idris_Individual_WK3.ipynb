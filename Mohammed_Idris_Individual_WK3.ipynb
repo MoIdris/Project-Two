{
 "cells": [
  {
   "cell_type": "markdown",
   "id": "b777f71a-8104-4318-81b0-1af4dc0657eb",
   "metadata": {
    "tags": []
   },
   "source": [
    "### WEEK3 – CASESTUDY\n",
    "### The IT team needs to comply with the companies’ policies on data privacy. Your boss tasks you to write an algorithm to encrypt and decrypt its internal messages using Caesar’s Cipher.\n",
    "### In cryptography, a Caesar Cipher, also known as shift cipher is one the simplest and most widely known encryption techniques. \n",
    "### It is a type of substitution cipher in which each letter in the plaintext is replaced by a letter of some fixed number of positions down the alphabet.\n",
    "### For example, with a left shift of 3, D would be replaced by A, E would be become B, and so on.\n",
    "### The method is named after Julius Caesar, who used it in his private correspondence. The transformation can be represented by aligning two alphabets; the cipher alphabet is the plain alphabet rotated left or right by some number of positions.\n",
    "### For instance, here is a Caesar cipher using a left rotation of three places, equivalent to a right shift of 23 (the shift parameter is used as the key): \n",
    "### Plain: ABCDEFGHIJKLMNOPQRSTUVWXYZ\n",
    "### Cipher: XYZABCDEFGHIJKLMNOPQRSTUVW\n",
    "### When encrypting, a person looks up each letter of the message in the “plain” line and writes down the corresponding letter in the “cipher” line.\n",
    "### Ciphertext: QEB NRFZH YOLTK CLU GRJMP LSBO QEB IXWV ALD\n",
    "### Plaintext: THE QUICK BROWN FOX JUMPS OVER THE LAZY DOG\n",
    "### Deciphering is done in the reverse, with a right shift of 3.\n"
   ]
  },
  {
   "cell_type": "code",
   "execution_count": 13,
   "id": "01b6bca8-7238-4bc3-9be1-e408cbadbeb0",
   "metadata": {},
   "outputs": [
    {
     "name": "stdin",
     "output_type": "stream",
     "text": [
      "What text do you want to decrypt?:  QEB NRFZH YOLTK CLU GRJMP LSBO QEB IXWV ALD\n",
      "How many shifts(in figures) for your decryption?:  3\n"
     ]
    },
    {
     "name": "stdout",
     "output_type": "stream",
     "text": [
      "\n",
      "Cipher text: QEB NRFZH YOLTK CLU GRJMP LSBO QEB IXWV ALD\n",
      "Plain text: THE QUICK BROWN FOX JUMPS OVER THE LAZY DOG\n"
     ]
    }
   ],
   "source": [
    "# Defining functions\n",
    "def caesar_decipher(ciphertext, shift):\n",
    "    letters = 'ABCDEFGHIJKLMNOPQRSTUVWXYZ'\n",
    "    result = ''\n",
    "\n",
    "    for char in ciphertext.upper():\n",
    "        if char in letters:\n",
    "            old_index = letters.index(char)\n",
    "            new_index = (old_index + shift) % 26\n",
    "            \n",
    "            result += letters[new_index]\n",
    "        else:\n",
    "            result += char\n",
    "\n",
    "    return result\n",
    "\n",
    "# Applying the function\n",
    "ciphertext = input('What text do you want to decrypt?: ')\n",
    "rotation = int(input('How many shifts(in figures) for your decryption?: '))\n",
    "\n",
    "plaintext = caesar_decipher(ciphertext, rotation)\n",
    "\n",
    "print(\"\")\n",
    "print(f'Cipher text: {ciphertext}')\n",
    "print(f'Plain text: {plaintext}')\n"
   ]
  }
 ],
 "metadata": {
  "kernelspec": {
   "display_name": "Python 3 (ipykernel)",
   "language": "python",
   "name": "python3"
  },
  "language_info": {
   "codemirror_mode": {
    "name": "ipython",
    "version": 3
   },
   "file_extension": ".py",
   "mimetype": "text/x-python",
   "name": "python",
   "nbconvert_exporter": "python",
   "pygments_lexer": "ipython3",
   "version": "3.11.5"
  }
 },
 "nbformat": 4,
 "nbformat_minor": 5
}
